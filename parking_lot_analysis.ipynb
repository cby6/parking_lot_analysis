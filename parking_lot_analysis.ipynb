{
  "nbformat": 4,
  "nbformat_minor": 0,
  "metadata": {
    "colab": {
      "provenance": []
    },
    "kernelspec": {
      "name": "python3",
      "display_name": "Python 3"
    },
    "language_info": {
      "name": "python"
    }
  },
  "cells": [
    {
      "cell_type": "markdown",
      "source": [
        "This business problem is related with multiple stakeholders including Product, Sales, and Customer Success teams. Each team has different requirements and use cases. Basically we need to answer the following questions:\n",
        "1. what metrics to use to evaluate a facility's \"quality\"?\n",
        "2. find straightforward ways to tell good quality facility from bad ones\n",
        "3. find which factors contribute most to the good/bad quality of a facility, so that facility can improve on those factors.\n",
        "4. predict the quality of a new facility so that SpotHero can prioritize how to expand in a market"
      ],
      "metadata": {
        "id": "Wf2uj-nnAhrq"
      }
    },
    {
      "cell_type": "code",
      "source": [
        "# prepare packages and environment, set up configuration\n",
        "# !pip install shap\n",
        "import pandas as pd\n",
        "import numpy as np\n",
        "import seaborn as sns\n",
        "from sklearn.preprocessing import LabelEncoder, MinMaxScaler\n",
        "from sklearn.metrics import accuracy_score, mean_squared_error\n",
        "from sklearn.model_selection import RandomizedSearchCV, GridSearchCV, train_test_split, StratifiedKFold\n",
        "from sklearn.ensemble import RandomForestRegressor\n",
        "import shap\n",
        "import xgboost\n",
        "from scipy import stats\n",
        "\n",
        "pd.set_option('display.float_format', lambda x: '%.2f' % x)\n",
        "pd.set_option('display.max_columns', None)\n",
        "rs = 10   # random state"
      ],
      "metadata": {
        "id": "YISgDNu6CNLB"
      },
      "execution_count": 41,
      "outputs": []
    },
    {
      "cell_type": "code",
      "source": [
        "df = pd.read_csv('SpotHero_Take_Home_Quality_Facility_Data_2_2023_-_ranking.csv')\n",
        "df.head()"
      ],
      "metadata": {
        "colab": {
          "base_uri": "https://localhost:8080/",
          "height": 270
        },
        "id": "zAlApvGIDRtg",
        "outputId": "3f8c9769-c8b8-487a-b0ad-a59b1c4d566b"
      },
      "execution_count": 43,
      "outputs": [
        {
          "output_type": "execute_result",
          "data": {
            "text/plain": [
              "   facility_id reporting_neighborhood     city  latitude  longitude  \\\n",
              "0            1          United Center  Chicago     41.88     -87.67   \n",
              "1            2           Lincoln Park  Chicago     41.92     -87.65   \n",
              "2            3           Wrigleyville  Chicago     41.95     -87.66   \n",
              "3            4             South Loop  Chicago     41.87     -87.63   \n",
              "4            5             Near North  Chicago     41.90     -87.64   \n",
              "\n",
              "   height_restriction  ext_allowed parking_type  accessible  ev_charging  \\\n",
              "0                 NaN         True         self        True        False   \n",
              "1                 NaN         True         self       False        False   \n",
              "2                 NaN         True         self        True        False   \n",
              "3               90.00         True         self        True         True   \n",
              "4               74.00         True         self        True        False   \n",
              "\n",
              "   heated  rooftop_exposed  has_monthly_rates  has_transient_rates  \\\n",
              "0   False            False              False                 True   \n",
              "1   False            False              False                 True   \n",
              "2   False            False              False                 True   \n",
              "3   False            False              False                 True   \n",
              "4   False            False               True                 True   \n",
              "\n",
              "   p4w_total_gross_revenue  p4w_new_drivers  p4w_repeat_drivers  \\\n",
              "0                    90.00             5.00                1.00   \n",
              "1                   263.50            13.00                2.00   \n",
              "2                     0.00              NaN                 NaN   \n",
              "3                  5421.00            87.00              115.00   \n",
              "4                  4338.00            91.00               69.00   \n",
              "\n",
              "   num_words_parking_instruction  num_rentals_refunded  p4w_sipp  sipp  \\\n",
              "0                             55                     1      0.00     0   \n",
              "1                             74                     1      0.00  1000   \n",
              "2                             56                     0      0.00     0   \n",
              "3                             63                    10      3.26   214   \n",
              "4                             35                    17     34.59   417   \n",
              "\n",
              "   user_issues_per_park  tipp  product_cpp  total_cpp  p4w_lot_full  \\\n",
              "0                     0     0            0          0             0   \n",
              "1                     0     0            0       1000             0   \n",
              "2                     0     0            0       1000             0   \n",
              "3                   500    71          143       1214             1   \n",
              "4                   167     0          167       1000             2   \n",
              "\n",
              "   num_stalls  count_first_rentals  count_repeat  rental_count p4w_return_pct  \\\n",
              "0           1                    2             2             7          16.7%   \n",
              "1           1                    1             1            16          13.3%   \n",
              "2           1                    1             1             0           0.0%   \n",
              "3          40                 6155          5659           663          56.9%   \n",
              "4          20                 3309          3015           305          43.1%   \n",
              "\n",
              "   scan_to_pay_flag  iq_facility  p4w_total_gross_revenue_no_event  \\\n",
              "0             False        False                              0.00   \n",
              "1             False         True                            263.50   \n",
              "2             False        False                               NaN   \n",
              "3             False        False                           4851.00   \n",
              "4             False        False                           4338.00   \n",
              "\n",
              "   customer_reviews_count  covered_parking  inout_allowed  lot_fulls_per_park  \\\n",
              "0                       4            False           True                   0   \n",
              "1                      14            False           True                 500   \n",
              "2                      13            False           True                   0   \n",
              "3                    4320             True          False                  71   \n",
              "4                    1775            False           True                  83   \n",
              "\n",
              "   utilization  utilization_weekday_day  utilization_weekend_night  \\\n",
              "0         0.02                     0.01                       0.10   \n",
              "1         0.20                     0.14                       0.57   \n",
              "2         0.04                     0.02                       0.09   \n",
              "3         0.41                     0.80                       0.24   \n",
              "4         0.29                     0.99                       0.23   \n",
              "\n",
              "   has_event_rates  searches  on_site_staff  facility_type_under_el  \\\n",
              "0             True      1002          False                       0   \n",
              "1            False      1675          False                       0   \n",
              "2             True     18988          False                       0   \n",
              "3             True      4056           True                       0   \n",
              "4            False     20114          False                       0   \n",
              "\n",
              "   facility_type_garage  facility_type_valet_stand  facility_type_lot  \\\n",
              "0                     0                          0                  1   \n",
              "1                     0                          0                  1   \n",
              "2                     0                          0                  0   \n",
              "3                     1                          0                  0   \n",
              "4                     0                          0                  1   \n",
              "\n",
              "   facility_type_personal_spot refund_pct  average_star_rating  \n",
              "0                            0     14.29%                 5.00  \n",
              "1                            0      6.25%                 4.30  \n",
              "2                            1      0.00%                 4.20  \n",
              "3                            0      1.51%                 4.80  \n",
              "4                            0      5.57%                 4.80  "
            ],
            "text/html": [
              "\n",
              "  <div id=\"df-336e9016-e360-4196-aecb-281314481b6d\">\n",
              "    <div class=\"colab-df-container\">\n",
              "      <div>\n",
              "<style scoped>\n",
              "    .dataframe tbody tr th:only-of-type {\n",
              "        vertical-align: middle;\n",
              "    }\n",
              "\n",
              "    .dataframe tbody tr th {\n",
              "        vertical-align: top;\n",
              "    }\n",
              "\n",
              "    .dataframe thead th {\n",
              "        text-align: right;\n",
              "    }\n",
              "</style>\n",
              "<table border=\"1\" class=\"dataframe\">\n",
              "  <thead>\n",
              "    <tr style=\"text-align: right;\">\n",
              "      <th></th>\n",
              "      <th>facility_id</th>\n",
              "      <th>reporting_neighborhood</th>\n",
              "      <th>city</th>\n",
              "      <th>latitude</th>\n",
              "      <th>longitude</th>\n",
              "      <th>height_restriction</th>\n",
              "      <th>ext_allowed</th>\n",
              "      <th>parking_type</th>\n",
              "      <th>accessible</th>\n",
              "      <th>ev_charging</th>\n",
              "      <th>heated</th>\n",
              "      <th>rooftop_exposed</th>\n",
              "      <th>has_monthly_rates</th>\n",
              "      <th>has_transient_rates</th>\n",
              "      <th>p4w_total_gross_revenue</th>\n",
              "      <th>p4w_new_drivers</th>\n",
              "      <th>p4w_repeat_drivers</th>\n",
              "      <th>num_words_parking_instruction</th>\n",
              "      <th>num_rentals_refunded</th>\n",
              "      <th>p4w_sipp</th>\n",
              "      <th>sipp</th>\n",
              "      <th>user_issues_per_park</th>\n",
              "      <th>tipp</th>\n",
              "      <th>product_cpp</th>\n",
              "      <th>total_cpp</th>\n",
              "      <th>p4w_lot_full</th>\n",
              "      <th>num_stalls</th>\n",
              "      <th>count_first_rentals</th>\n",
              "      <th>count_repeat</th>\n",
              "      <th>rental_count</th>\n",
              "      <th>p4w_return_pct</th>\n",
              "      <th>scan_to_pay_flag</th>\n",
              "      <th>iq_facility</th>\n",
              "      <th>p4w_total_gross_revenue_no_event</th>\n",
              "      <th>customer_reviews_count</th>\n",
              "      <th>covered_parking</th>\n",
              "      <th>inout_allowed</th>\n",
              "      <th>lot_fulls_per_park</th>\n",
              "      <th>utilization</th>\n",
              "      <th>utilization_weekday_day</th>\n",
              "      <th>utilization_weekend_night</th>\n",
              "      <th>has_event_rates</th>\n",
              "      <th>searches</th>\n",
              "      <th>on_site_staff</th>\n",
              "      <th>facility_type_under_el</th>\n",
              "      <th>facility_type_garage</th>\n",
              "      <th>facility_type_valet_stand</th>\n",
              "      <th>facility_type_lot</th>\n",
              "      <th>facility_type_personal_spot</th>\n",
              "      <th>refund_pct</th>\n",
              "      <th>average_star_rating</th>\n",
              "    </tr>\n",
              "  </thead>\n",
              "  <tbody>\n",
              "    <tr>\n",
              "      <th>0</th>\n",
              "      <td>1</td>\n",
              "      <td>United Center</td>\n",
              "      <td>Chicago</td>\n",
              "      <td>41.88</td>\n",
              "      <td>-87.67</td>\n",
              "      <td>NaN</td>\n",
              "      <td>True</td>\n",
              "      <td>self</td>\n",
              "      <td>True</td>\n",
              "      <td>False</td>\n",
              "      <td>False</td>\n",
              "      <td>False</td>\n",
              "      <td>False</td>\n",
              "      <td>True</td>\n",
              "      <td>90.00</td>\n",
              "      <td>5.00</td>\n",
              "      <td>1.00</td>\n",
              "      <td>55</td>\n",
              "      <td>1</td>\n",
              "      <td>0.00</td>\n",
              "      <td>0</td>\n",
              "      <td>0</td>\n",
              "      <td>0</td>\n",
              "      <td>0</td>\n",
              "      <td>0</td>\n",
              "      <td>0</td>\n",
              "      <td>1</td>\n",
              "      <td>2</td>\n",
              "      <td>2</td>\n",
              "      <td>7</td>\n",
              "      <td>16.7%</td>\n",
              "      <td>False</td>\n",
              "      <td>False</td>\n",
              "      <td>0.00</td>\n",
              "      <td>4</td>\n",
              "      <td>False</td>\n",
              "      <td>True</td>\n",
              "      <td>0</td>\n",
              "      <td>0.02</td>\n",
              "      <td>0.01</td>\n",
              "      <td>0.10</td>\n",
              "      <td>True</td>\n",
              "      <td>1002</td>\n",
              "      <td>False</td>\n",
              "      <td>0</td>\n",
              "      <td>0</td>\n",
              "      <td>0</td>\n",
              "      <td>1</td>\n",
              "      <td>0</td>\n",
              "      <td>14.29%</td>\n",
              "      <td>5.00</td>\n",
              "    </tr>\n",
              "    <tr>\n",
              "      <th>1</th>\n",
              "      <td>2</td>\n",
              "      <td>Lincoln Park</td>\n",
              "      <td>Chicago</td>\n",
              "      <td>41.92</td>\n",
              "      <td>-87.65</td>\n",
              "      <td>NaN</td>\n",
              "      <td>True</td>\n",
              "      <td>self</td>\n",
              "      <td>False</td>\n",
              "      <td>False</td>\n",
              "      <td>False</td>\n",
              "      <td>False</td>\n",
              "      <td>False</td>\n",
              "      <td>True</td>\n",
              "      <td>263.50</td>\n",
              "      <td>13.00</td>\n",
              "      <td>2.00</td>\n",
              "      <td>74</td>\n",
              "      <td>1</td>\n",
              "      <td>0.00</td>\n",
              "      <td>1000</td>\n",
              "      <td>0</td>\n",
              "      <td>0</td>\n",
              "      <td>0</td>\n",
              "      <td>1000</td>\n",
              "      <td>0</td>\n",
              "      <td>1</td>\n",
              "      <td>1</td>\n",
              "      <td>1</td>\n",
              "      <td>16</td>\n",
              "      <td>13.3%</td>\n",
              "      <td>False</td>\n",
              "      <td>True</td>\n",
              "      <td>263.50</td>\n",
              "      <td>14</td>\n",
              "      <td>False</td>\n",
              "      <td>True</td>\n",
              "      <td>500</td>\n",
              "      <td>0.20</td>\n",
              "      <td>0.14</td>\n",
              "      <td>0.57</td>\n",
              "      <td>False</td>\n",
              "      <td>1675</td>\n",
              "      <td>False</td>\n",
              "      <td>0</td>\n",
              "      <td>0</td>\n",
              "      <td>0</td>\n",
              "      <td>1</td>\n",
              "      <td>0</td>\n",
              "      <td>6.25%</td>\n",
              "      <td>4.30</td>\n",
              "    </tr>\n",
              "    <tr>\n",
              "      <th>2</th>\n",
              "      <td>3</td>\n",
              "      <td>Wrigleyville</td>\n",
              "      <td>Chicago</td>\n",
              "      <td>41.95</td>\n",
              "      <td>-87.66</td>\n",
              "      <td>NaN</td>\n",
              "      <td>True</td>\n",
              "      <td>self</td>\n",
              "      <td>True</td>\n",
              "      <td>False</td>\n",
              "      <td>False</td>\n",
              "      <td>False</td>\n",
              "      <td>False</td>\n",
              "      <td>True</td>\n",
              "      <td>0.00</td>\n",
              "      <td>NaN</td>\n",
              "      <td>NaN</td>\n",
              "      <td>56</td>\n",
              "      <td>0</td>\n",
              "      <td>0.00</td>\n",
              "      <td>0</td>\n",
              "      <td>0</td>\n",
              "      <td>0</td>\n",
              "      <td>0</td>\n",
              "      <td>1000</td>\n",
              "      <td>0</td>\n",
              "      <td>1</td>\n",
              "      <td>1</td>\n",
              "      <td>1</td>\n",
              "      <td>0</td>\n",
              "      <td>0.0%</td>\n",
              "      <td>False</td>\n",
              "      <td>False</td>\n",
              "      <td>NaN</td>\n",
              "      <td>13</td>\n",
              "      <td>False</td>\n",
              "      <td>True</td>\n",
              "      <td>0</td>\n",
              "      <td>0.04</td>\n",
              "      <td>0.02</td>\n",
              "      <td>0.09</td>\n",
              "      <td>True</td>\n",
              "      <td>18988</td>\n",
              "      <td>False</td>\n",
              "      <td>0</td>\n",
              "      <td>0</td>\n",
              "      <td>0</td>\n",
              "      <td>0</td>\n",
              "      <td>1</td>\n",
              "      <td>0.00%</td>\n",
              "      <td>4.20</td>\n",
              "    </tr>\n",
              "    <tr>\n",
              "      <th>3</th>\n",
              "      <td>4</td>\n",
              "      <td>South Loop</td>\n",
              "      <td>Chicago</td>\n",
              "      <td>41.87</td>\n",
              "      <td>-87.63</td>\n",
              "      <td>90.00</td>\n",
              "      <td>True</td>\n",
              "      <td>self</td>\n",
              "      <td>True</td>\n",
              "      <td>True</td>\n",
              "      <td>False</td>\n",
              "      <td>False</td>\n",
              "      <td>False</td>\n",
              "      <td>True</td>\n",
              "      <td>5421.00</td>\n",
              "      <td>87.00</td>\n",
              "      <td>115.00</td>\n",
              "      <td>63</td>\n",
              "      <td>10</td>\n",
              "      <td>3.26</td>\n",
              "      <td>214</td>\n",
              "      <td>500</td>\n",
              "      <td>71</td>\n",
              "      <td>143</td>\n",
              "      <td>1214</td>\n",
              "      <td>1</td>\n",
              "      <td>40</td>\n",
              "      <td>6155</td>\n",
              "      <td>5659</td>\n",
              "      <td>663</td>\n",
              "      <td>56.9%</td>\n",
              "      <td>False</td>\n",
              "      <td>False</td>\n",
              "      <td>4851.00</td>\n",
              "      <td>4320</td>\n",
              "      <td>True</td>\n",
              "      <td>False</td>\n",
              "      <td>71</td>\n",
              "      <td>0.41</td>\n",
              "      <td>0.80</td>\n",
              "      <td>0.24</td>\n",
              "      <td>True</td>\n",
              "      <td>4056</td>\n",
              "      <td>True</td>\n",
              "      <td>0</td>\n",
              "      <td>1</td>\n",
              "      <td>0</td>\n",
              "      <td>0</td>\n",
              "      <td>0</td>\n",
              "      <td>1.51%</td>\n",
              "      <td>4.80</td>\n",
              "    </tr>\n",
              "    <tr>\n",
              "      <th>4</th>\n",
              "      <td>5</td>\n",
              "      <td>Near North</td>\n",
              "      <td>Chicago</td>\n",
              "      <td>41.90</td>\n",
              "      <td>-87.64</td>\n",
              "      <td>74.00</td>\n",
              "      <td>True</td>\n",
              "      <td>self</td>\n",
              "      <td>True</td>\n",
              "      <td>False</td>\n",
              "      <td>False</td>\n",
              "      <td>False</td>\n",
              "      <td>True</td>\n",
              "      <td>True</td>\n",
              "      <td>4338.00</td>\n",
              "      <td>91.00</td>\n",
              "      <td>69.00</td>\n",
              "      <td>35</td>\n",
              "      <td>17</td>\n",
              "      <td>34.59</td>\n",
              "      <td>417</td>\n",
              "      <td>167</td>\n",
              "      <td>0</td>\n",
              "      <td>167</td>\n",
              "      <td>1000</td>\n",
              "      <td>2</td>\n",
              "      <td>20</td>\n",
              "      <td>3309</td>\n",
              "      <td>3015</td>\n",
              "      <td>305</td>\n",
              "      <td>43.1%</td>\n",
              "      <td>False</td>\n",
              "      <td>False</td>\n",
              "      <td>4338.00</td>\n",
              "      <td>1775</td>\n",
              "      <td>False</td>\n",
              "      <td>True</td>\n",
              "      <td>83</td>\n",
              "      <td>0.29</td>\n",
              "      <td>0.99</td>\n",
              "      <td>0.23</td>\n",
              "      <td>False</td>\n",
              "      <td>20114</td>\n",
              "      <td>False</td>\n",
              "      <td>0</td>\n",
              "      <td>0</td>\n",
              "      <td>0</td>\n",
              "      <td>1</td>\n",
              "      <td>0</td>\n",
              "      <td>5.57%</td>\n",
              "      <td>4.80</td>\n",
              "    </tr>\n",
              "  </tbody>\n",
              "</table>\n",
              "</div>\n",
              "      <button class=\"colab-df-convert\" onclick=\"convertToInteractive('df-336e9016-e360-4196-aecb-281314481b6d')\"\n",
              "              title=\"Convert this dataframe to an interactive table.\"\n",
              "              style=\"display:none;\">\n",
              "        \n",
              "  <svg xmlns=\"http://www.w3.org/2000/svg\" height=\"24px\"viewBox=\"0 0 24 24\"\n",
              "       width=\"24px\">\n",
              "    <path d=\"M0 0h24v24H0V0z\" fill=\"none\"/>\n",
              "    <path d=\"M18.56 5.44l.94 2.06.94-2.06 2.06-.94-2.06-.94-.94-2.06-.94 2.06-2.06.94zm-11 1L8.5 8.5l.94-2.06 2.06-.94-2.06-.94L8.5 2.5l-.94 2.06-2.06.94zm10 10l.94 2.06.94-2.06 2.06-.94-2.06-.94-.94-2.06-.94 2.06-2.06.94z\"/><path d=\"M17.41 7.96l-1.37-1.37c-.4-.4-.92-.59-1.43-.59-.52 0-1.04.2-1.43.59L10.3 9.45l-7.72 7.72c-.78.78-.78 2.05 0 2.83L4 21.41c.39.39.9.59 1.41.59.51 0 1.02-.2 1.41-.59l7.78-7.78 2.81-2.81c.8-.78.8-2.07 0-2.86zM5.41 20L4 18.59l7.72-7.72 1.47 1.35L5.41 20z\"/>\n",
              "  </svg>\n",
              "      </button>\n",
              "      \n",
              "  <style>\n",
              "    .colab-df-container {\n",
              "      display:flex;\n",
              "      flex-wrap:wrap;\n",
              "      gap: 12px;\n",
              "    }\n",
              "\n",
              "    .colab-df-convert {\n",
              "      background-color: #E8F0FE;\n",
              "      border: none;\n",
              "      border-radius: 50%;\n",
              "      cursor: pointer;\n",
              "      display: none;\n",
              "      fill: #1967D2;\n",
              "      height: 32px;\n",
              "      padding: 0 0 0 0;\n",
              "      width: 32px;\n",
              "    }\n",
              "\n",
              "    .colab-df-convert:hover {\n",
              "      background-color: #E2EBFA;\n",
              "      box-shadow: 0px 1px 2px rgba(60, 64, 67, 0.3), 0px 1px 3px 1px rgba(60, 64, 67, 0.15);\n",
              "      fill: #174EA6;\n",
              "    }\n",
              "\n",
              "    [theme=dark] .colab-df-convert {\n",
              "      background-color: #3B4455;\n",
              "      fill: #D2E3FC;\n",
              "    }\n",
              "\n",
              "    [theme=dark] .colab-df-convert:hover {\n",
              "      background-color: #434B5C;\n",
              "      box-shadow: 0px 1px 3px 1px rgba(0, 0, 0, 0.15);\n",
              "      filter: drop-shadow(0px 1px 2px rgba(0, 0, 0, 0.3));\n",
              "      fill: #FFFFFF;\n",
              "    }\n",
              "  </style>\n",
              "\n",
              "      <script>\n",
              "        const buttonEl =\n",
              "          document.querySelector('#df-336e9016-e360-4196-aecb-281314481b6d button.colab-df-convert');\n",
              "        buttonEl.style.display =\n",
              "          google.colab.kernel.accessAllowed ? 'block' : 'none';\n",
              "\n",
              "        async function convertToInteractive(key) {\n",
              "          const element = document.querySelector('#df-336e9016-e360-4196-aecb-281314481b6d');\n",
              "          const dataTable =\n",
              "            await google.colab.kernel.invokeFunction('convertToInteractive',\n",
              "                                                     [key], {});\n",
              "          if (!dataTable) return;\n",
              "\n",
              "          const docLinkHtml = 'Like what you see? Visit the ' +\n",
              "            '<a target=\"_blank\" href=https://colab.research.google.com/notebooks/data_table.ipynb>data table notebook</a>'\n",
              "            + ' to learn more about interactive tables.';\n",
              "          element.innerHTML = '';\n",
              "          dataTable['output_type'] = 'display_data';\n",
              "          await google.colab.output.renderOutput(dataTable, element);\n",
              "          const docLink = document.createElement('div');\n",
              "          docLink.innerHTML = docLinkHtml;\n",
              "          element.appendChild(docLink);\n",
              "        }\n",
              "      </script>\n",
              "    </div>\n",
              "  </div>\n",
              "  "
            ]
          },
          "metadata": {},
          "execution_count": 43
        }
      ]
    },
    {
      "cell_type": "markdown",
      "source": [
        "by browsing the given PDF document and dataframe, we decide the following metrics are good indicator of a facility's quality:\n",
        "1. Average star rating of the facility given by drivers of SpotHero\n",
        "2. ratio of returned drivers. number of returned drivers divided by total drivers. because drivers are more likely to return to good quality parking lots."
      ],
      "metadata": {
        "id": "2kXg6adID0WZ"
      }
    },
    {
      "cell_type": "code",
      "source": [
        "# Average star rating of the facility\n",
        "df['average_star_rating']\n",
        "\n",
        "# ratio of returned drivers = p4w_repeat_drivers / (p4w_repeat_drivers + p4w_new_drivers)\n",
        "# there are null values in p4w_new_drivers and p4w_repeat_drivers, fill them with zero. return_ratio is zero if any one of the two columns are zero.\n",
        "df['p4w_new_drivers'] = df['p4w_new_drivers'].fillna(0)\n",
        "df['p4w_repeat_drivers'] = df['p4w_repeat_drivers'].fillna(0)\n",
        "df['return_ratio'] = df['p4w_repeat_drivers'].div(df['p4w_repeat_drivers'] + df['p4w_new_drivers']).replace(np.nan, 0)"
      ],
      "metadata": {
        "id": "yx_pWiyODWfH"
      },
      "execution_count": 44,
      "outputs": []
    },
    {
      "cell_type": "code",
      "source": [
        "# calculate correlation between return_ratio and average_star_rating\n",
        "print(df['return_ratio'].corr(df['average_star_rating']))"
      ],
      "metadata": {
        "colab": {
          "base_uri": "https://localhost:8080/"
        },
        "id": "QdTZg5L5Jlbu",
        "outputId": "f2a59c8a-a02f-4514-b9ad-c063404bd52c"
      },
      "execution_count": 45,
      "outputs": [
        {
          "output_type": "stream",
          "name": "stdout",
          "text": [
            "0.27420726948552393\n"
          ]
        }
      ]
    },
    {
      "cell_type": "markdown",
      "source": [
        "we can see return_ratio is positively correlated with average_star_rating. <br>\n",
        "Among them, stakeholders can choose different metrics for different business purposes, and differentiate good quality facility from bad ones."
      ],
      "metadata": {
        "id": "l30DYHilOWoy"
      }
    },
    {
      "cell_type": "markdown",
      "source": [
        "in general revenue/profit could also be indicator of quality. good quality facility usually has a higher demand, thus resulting a higher revenue. But price is highly related with location of a facility. Parking lot in downtown area usually charges higher fee, also has more customers. So we do not use revenue/profit as metrics for now."
      ],
      "metadata": {
        "id": "qz0qRhUcd7FR"
      }
    },
    {
      "cell_type": "markdown",
      "source": [
        "To answer question 3 and 4, we need to build a model. The purpose of the model is to predict a facility's quality given its operating numbers and service conditions, e.g, are there any issues, does the facility provide certain service, etc. I will use average_star_rating as the label here. Same can be applied to return_ratio. <br>\n",
        "since rating numbers can be sorted or compared to each other, we can view it as continuous quantity, so we will use a regression model."
      ],
      "metadata": {
        "id": "ChuEkTnzPhjU"
      }
    },
    {
      "cell_type": "code",
      "source": [
        "label = 'average_star_rating'"
      ],
      "metadata": {
        "id": "XHVFVab4mkKK"
      },
      "execution_count": 6,
      "outputs": []
    },
    {
      "cell_type": "markdown",
      "source": [
        "Many factors can contribute to the quality of a facility. We pick all the features from the dataset that could potentially strengthen or weaken a parking lot's quality, and separate them into 3 groups."
      ],
      "metadata": {
        "id": "rFtnJI8oc1XM"
      }
    },
    {
      "cell_type": "code",
      "source": [
        "categorical_features = [\n",
        "    'reporting_neighborhood',\n",
        "    'parking_type',\n",
        "]\n",
        "\n",
        "sequence_features = [\n",
        "    'height_restriction',\n",
        "    'p4w_sipp',\n",
        "    'sipp',\n",
        "    'user_issues_per_park',\n",
        "    'tipp',\n",
        "    'lot_fulls_per_park',\n",
        "    'utilization',\n",
        "    'utilization_weekday_day',\n",
        "    'utilization_weekend_night',\n",
        "    'p4w_return_pct',\n",
        "    'refund_pct',\n",
        "    'num_stalls'\n",
        "]\n",
        "\n",
        "binary_features = [\n",
        "    'ext_allowed',\n",
        "    'accessible',\n",
        "    'ev_charging',\n",
        "    'heated',\n",
        "    'rooftop_exposed', \n",
        "    'has_monthly_rates',\n",
        "    'has_transient_rates',\n",
        "    'scan_to_pay_flag',\n",
        "    'covered_parking',\n",
        "    'inout_allowed',\n",
        "    'on_site_staff',\n",
        "    'facility_type_under_el',\n",
        "    'facility_type_garage',\n",
        "    'facility_type_valet_stand',\n",
        "    'facility_type_lot',\n",
        "    'facility_type_personal_spot',\n",
        "    'iq_facility'\n",
        "\n",
        "]\n",
        "\n",
        "features = categorical_features + sequence_features + binary_features\n",
        "df = df[features + [label]]"
      ],
      "metadata": {
        "id": "TtHQfw5hOFxD"
      },
      "execution_count": 46,
      "outputs": []
    },
    {
      "cell_type": "markdown",
      "source": [
        "There is only 1 city in the entire dataset, so we ignore city column.<br> \n",
        "p4w_lot_full is Number of Lot Full incidents in the last 4 weeks. In general large facilities have more customers, so they natually have a higher Lot Full incidents count. lot_fulls_per_park is a better feature to measure facility's management level. For same reason we exclude num_rentals_refunded."
      ],
      "metadata": {
        "id": "QtG_1T55Db9C"
      }
    },
    {
      "cell_type": "markdown",
      "source": [
        "Next we will preprocess the dataset. <br>\n",
        "height_restriction column has many null values. For now we assume these facilities don't have height limit. We have different ways to deal with it. We can convert this sequence feature to buckets, and the highest bucket is \"greater than certain value\". Or we can fill them with a large number. Since the max of height_restriction column is 132, we assign 150 to the null ones. <br>\n",
        "There are also null values in average_star_rating column. since we cannot make up values for the rating, we ignore the 36 rows."
      ],
      "metadata": {
        "id": "uXgR5sf5l3e_"
      }
    },
    {
      "cell_type": "code",
      "source": [
        "df.loc[:,'height_restriction'] = df['height_restriction'].fillna(150)\n",
        "df.loc[:,'utilization_weekday_day'] = df['utilization_weekday_day'].fillna(0.0)\n",
        "df.loc[:,'utilization_weekend_night'] = df['utilization_weekend_night'].fillna(0.0)\n",
        "df = df.dropna(subset=['average_star_rating'])"
      ],
      "metadata": {
        "id": "eMKpfJwkqyTb"
      },
      "execution_count": 47,
      "outputs": []
    },
    {
      "cell_type": "markdown",
      "source": [
        "columns with \"per park\" are by 1000 parks, so we divide them by 1000.<br> \n",
        "we will convert categorical and binary columns to int type. <br>"
      ],
      "metadata": {
        "id": "JwcjO1vcEtcJ"
      }
    },
    {
      "cell_type": "code",
      "source": [
        "rescale_columns = [\n",
        "    'p4w_sipp',\n",
        "    'sipp',\n",
        "    'user_issues_per_park',\n",
        "    'tipp',\n",
        "    'lot_fulls_per_park',\n",
        "]\n",
        "\n",
        "for c in rescale_columns:\n",
        "    df[c] = df[c] / 1000\n",
        "for c in categorical_features:\n",
        "    df[c] = LabelEncoder().fit_transform(df[c]).astype('int')\n",
        "for c in binary_features:\n",
        "    df[c] = df[c].astype(int)"
      ],
      "metadata": {
        "id": "uPyoSYFgl9Ml"
      },
      "execution_count": 48,
      "outputs": []
    },
    {
      "cell_type": "markdown",
      "source": [
        "p4w_return_pct and refund_pct columns are in string format. we need to convert them to float. also remove invalid records where the percentage is greater than 100%."
      ],
      "metadata": {
        "id": "Ot7HiCK5vHwx"
      }
    },
    {
      "cell_type": "code",
      "source": [
        "string_columns = ['p4w_return_pct', 'refund_pct']\n",
        "for c in string_columns:\n",
        "    df[c] = df[c].str.rstrip('%').astype('float') / 100.0\n",
        "    df = df[df[c] <= 1]"
      ],
      "metadata": {
        "id": "z3_PIppkvYjb"
      },
      "execution_count": 49,
      "outputs": []
    },
    {
      "cell_type": "markdown",
      "source": [
        "Next we need to build a baseline model, and we will evaluate future models against the baseline. <br>"
      ],
      "metadata": {
        "id": "R9kxZKSpwy4X"
      }
    },
    {
      "cell_type": "code",
      "source": [
        "df['average_star_rating'].describe()"
      ],
      "metadata": {
        "colab": {
          "base_uri": "https://localhost:8080/"
        },
        "id": "MEbRKfxZxPld",
        "outputId": "368c9564-c531-4f92-f8e0-85d0ffa9cc2c"
      },
      "execution_count": 36,
      "outputs": [
        {
          "output_type": "execute_result",
          "data": {
            "text/plain": [
              "count   653.00\n",
              "mean      4.63\n",
              "std       0.33\n",
              "min       1.00\n",
              "25%       4.60\n",
              "50%       4.70\n",
              "75%       4.80\n",
              "max       5.00\n",
              "Name: average_star_rating, dtype: float64"
            ]
          },
          "metadata": {},
          "execution_count": 36
        }
      ]
    },
    {
      "cell_type": "markdown",
      "source": [
        "The mean of all rating numbers is 4.6. So in the baseline model, we always predict 4.6 regardless of the given features. And we use RMSE to calculate the loss."
      ],
      "metadata": {
        "id": "4RNhg-JPxTV7"
      }
    },
    {
      "cell_type": "code",
      "source": [
        "y_pred = [4.6] * df.shape[0]\n",
        "print(mean_squared_error(df[label], y_pred, squared=False))"
      ],
      "metadata": {
        "colab": {
          "base_uri": "https://localhost:8080/"
        },
        "id": "f_RwpVQNxntd",
        "outputId": "6ab50944-ce21-4276-afec-e1f556bd3046"
      },
      "execution_count": 38,
      "outputs": [
        {
          "output_type": "stream",
          "name": "stdout",
          "text": [
            "0.3287174016818296\n"
          ]
        }
      ]
    },
    {
      "cell_type": "markdown",
      "source": [
        "baseline model has RMSE of 0.329<br>\n",
        "to calculate accuracy, we round the predicted rating number and true label to whole number."
      ],
      "metadata": {
        "id": "cIiiOX1LFNav"
      }
    },
    {
      "cell_type": "code",
      "source": [
        "y_pred_round = [round(i) for i in y_pred]\n",
        "df_label_round = df[label].round(0)\n",
        "print(accuracy_score(df_label_round, y_pred_round))"
      ],
      "metadata": {
        "colab": {
          "base_uri": "https://localhost:8080/"
        },
        "id": "tJX5B42zSGPX",
        "outputId": "024899c0-93d1-4372-cb2c-834fc9789ca6"
      },
      "execution_count": 68,
      "outputs": [
        {
          "output_type": "stream",
          "name": "stdout",
          "text": [
            "0.774885145482389\n"
          ]
        }
      ]
    },
    {
      "cell_type": "markdown",
      "source": [
        "baseline model's accuracy is 0.77"
      ],
      "metadata": {
        "id": "K0nCKCVbUJdT"
      }
    },
    {
      "cell_type": "markdown",
      "source": [
        "To build our model, we first use a xgboost regressor."
      ],
      "metadata": {
        "id": "VQt4sVnzzh-w"
      }
    },
    {
      "cell_type": "code",
      "source": [
        "estimator = xgboost.XGBRegressor()"
      ],
      "metadata": {
        "id": "i5z-Gqwczp9r"
      },
      "execution_count": 50,
      "outputs": []
    },
    {
      "cell_type": "markdown",
      "source": [
        "Next we do feature engineering. We normalize the categorical and sequence features."
      ],
      "metadata": {
        "id": "SKCky2ZMpD8I"
      }
    },
    {
      "cell_type": "code",
      "source": [
        "scaler = MinMaxScaler()\n",
        "df[sequence_features + categorical_features] = scaler.fit_transform(df[sequence_features + categorical_features])"
      ],
      "metadata": {
        "id": "ztqGMmJWpa8L"
      },
      "execution_count": 51,
      "outputs": []
    },
    {
      "cell_type": "markdown",
      "source": [
        "We also remove highly correlated columns. If two columns have correlation greater than 0.85, we only keep one of them."
      ],
      "metadata": {
        "id": "AHz1Wnd0pkAY"
      }
    },
    {
      "cell_type": "code",
      "source": [
        "sns.heatmap(df.corr())"
      ],
      "metadata": {
        "colab": {
          "base_uri": "https://localhost:8080/",
          "height": 407
        },
        "id": "NydFjMHCFd4C",
        "outputId": "bc91d8ff-55d0-4fbb-ede0-da96b0e173d3"
      },
      "execution_count": 52,
      "outputs": [
        {
          "output_type": "execute_result",
          "data": {
            "text/plain": [
              "<AxesSubplot:>"
            ]
          },
          "metadata": {},
          "execution_count": 52
        },
        {
          "output_type": "display_data",
          "data": {
            "text/plain": [
              "<Figure size 432x288 with 2 Axes>"
            ],
            "image/png": "[encoded data removed]"
          },
          "metadata": {
            "needs_background": "light"
          }
        }
      ]
    },
    {
      "cell_type": "code",
      "source": [
        "# drop unnecessary columns due to high correlation to other columns\n",
        "cor_matrix = df.corr().abs()\n",
        "upper_tri = cor_matrix.where(np.triu(np.ones(cor_matrix.shape),k=1).astype(bool))\n",
        "to_drop = [column for column in upper_tri.columns if any(upper_tri[column] > 0.85)]\n",
        "print(to_drop)\n",
        "df = df.drop(to_drop, axis=1)\n",
        "binary_features = [i for i in binary_features if i not in to_drop]\n",
        "features = [i for i in features if i not in to_drop]"
      ],
      "metadata": {
        "colab": {
          "base_uri": "https://localhost:8080/"
        },
        "id": "opNYuWeypn2F",
        "outputId": "57b43e39-0394-46a3-ecf7-e3b15c62f502"
      },
      "execution_count": 53,
      "outputs": [
        {
          "output_type": "stream",
          "name": "stdout",
          "text": [
            "['facility_type_garage']\n"
          ]
        }
      ]
    },
    {
      "cell_type": "markdown",
      "source": [
        "After working on the features, we split the dataset into training and testing data. testing data is 20% of whole dataset."
      ],
      "metadata": {
        "id": "MUVu4nUe1WK8"
      }
    },
    {
      "cell_type": "code",
      "source": [
        "x_train, x_test, y_train, y_test = train_test_split(df[features], df[label], test_size=0.2, random_state=rs)"
      ],
      "metadata": {
        "id": "GuzV5ILd25MB"
      },
      "execution_count": 54,
      "outputs": []
    },
    {
      "cell_type": "markdown",
      "source": [
        "when training the data, we use 5 folds cross validation and randomized search technique to tune the hyperparameters."
      ],
      "metadata": {
        "id": "cqseW6_P27Ux"
      }
    },
    {
      "cell_type": "code",
      "source": [
        "param = {\n",
        "    'learning_rate': stats.uniform(0.01, 0.5),\n",
        "    'n_estimators': stats.randint(100, 1000),\n",
        "    'min_child_weight': stats.randint(1, 10),\n",
        "    'gamma': stats.uniform(0.01, 10),\n",
        "    'colsample_bytree': stats.uniform(0.3, 0.7),\n",
        "    'max_depth': stats.randint(1, 15)\n",
        "}\n",
        "\n",
        "model = RandomizedSearchCV(estimator = estimator, param_distributions = param, cv=5, n_iter = 200, verbose=2, random_state=rs, n_jobs = -1)\n",
        "model.fit(x_train, y_train)"
      ],
      "metadata": {
        "colab": {
          "base_uri": "https://localhost:8080/",
          "height": 136
        },
        "id": "P1IsC2YZ1yLq",
        "outputId": "d1bff73d-26c7-4042-fec5-8e6a27068e96"
      },
      "execution_count": 57,
      "outputs": [
        {
          "output_type": "stream",
          "name": "stdout",
          "text": [
            "Fitting 5 folds for each of 200 candidates, totalling 1000 fits\n"
          ]
        },
        {
          "output_type": "execute_result",
          "data": {
            "text/plain": [
              "RandomizedSearchCV(cv=5,\n",
              "                   estimator=XGBRegressor(base_score=None, booster=None,\n",
              "                                          callbacks=None,\n",
              "                                          colsample_bylevel=None,\n",
              "                                          colsample_bynode=None,\n",
              "                                          colsample_bytree=None,\n",
              "                                          early_stopping_rounds=None,\n",
              "                                          enable_categorical=False,\n",
              "                                          eval_metric=None, feature_types=None,\n",
              "                                          gamma=None, gpu_id=None,\n",
              "                                          grow_policy=None,\n",
              "                                          importance_type=None,\n",
              "                                          interaction_constraints=None,\n",
              "                                          learning_rate=...\n",
              "                                        'learning_rate': <scipy.stats._distn_infrastructure.rv_continuous_frozen object at 0x7ff7e8a7cd30>,\n",
              "                                        'max_depth': <scipy.stats._distn_infrastructure.rv_discrete_frozen object at 0x7ff7e8a20580>,\n",
              "                                        'min_child_weight': <scipy.stats._distn_infrastructure.rv_discrete_frozen object at 0x7ff7eb4fbe20>,\n",
              "                                        'n_estimators': <scipy.stats._distn_infrastructure.rv_discrete_frozen object at 0x7ff7e8a20220>},\n",
              "                   random_state=10, verbose=2)"
            ],
            "text/html": [
              "<style>#sk-container-id-1 {color: black;background-color: white;}#sk-container-id-1 pre{padding: 0;}#sk-container-id-1 div.sk-toggleable {background-color: white;}#sk-container-id-1 label.sk-toggleable__label {cursor: pointer;display: block;width: 100%;margin-bottom: 0;padding: 0.3em;box-sizing: border-box;text-align: center;}#sk-container-id-1 label.sk-toggleable__label-arrow:before {content: \"▸\";float: left;margin-right: 0.25em;color: #696969;}#sk-container-id-1 label.sk-toggleable__label-arrow:hover:before {color: black;}#sk-container-id-1 div.sk-estimator:hover label.sk-toggleable__label-arrow:before {color: black;}#sk-container-id-1 div.sk-toggleable__content {max-height: 0;max-width: 0;overflow: hidden;text-align: left;background-color: #f0f8ff;}#sk-container-id-1 div.sk-toggleable__content pre {margin: 0.2em;color: black;border-radius: 0.25em;background-color: #f0f8ff;}#sk-container-id-1 input.sk-toggleable__control:checked~div.sk-toggleable__content {max-height: 200px;max-width: 100%;overflow: auto;}#sk-container-id-1 input.sk-toggleable__control:checked~label.sk-toggleable__label-arrow:before {content: \"▾\";}#sk-container-id-1 div.sk-estimator input.sk-toggleable__control:checked~label.sk-toggleable__label {background-color: #d4ebff;}#sk-container-id-1 div.sk-label input.sk-toggleable__control:checked~label.sk-toggleable__label {background-color: #d4ebff;}#sk-container-id-1 input.sk-hidden--visually {border: 0;clip: rect(1px 1px 1px 1px);clip: rect(1px, 1px, 1px, 1px);height: 1px;margin: -1px;overflow: hidden;padding: 0;position: absolute;width: 1px;}#sk-container-id-1 div.sk-estimator {font-family: monospace;background-color: #f0f8ff;border: 1px dotted black;border-radius: 0.25em;box-sizing: border-box;margin-bottom: 0.5em;}#sk-container-id-1 div.sk-estimator:hover {background-color: #d4ebff;}#sk-container-id-1 div.sk-parallel-item::after {content: \"\";width: 100%;border-bottom: 1px solid gray;flex-grow: 1;}#sk-container-id-1 div.sk-label:hover label.sk-toggleable__label {background-color: #d4ebff;}#sk-container-id-1 div.sk-serial::before {content: \"\";position: absolute;border-left: 1px solid gray;box-sizing: border-box;top: 0;bottom: 0;left: 50%;z-index: 0;}#sk-container-id-1 div.sk-serial {display: flex;flex-direction: column;align-items: center;background-color: white;padding-right: 0.2em;padding-left: 0.2em;position: relative;}#sk-container-id-1 div.sk-item {position: relative;z-index: 1;}#sk-container-id-1 div.sk-parallel {display: flex;align-items: stretch;justify-content: center;background-color: white;position: relative;}#sk-container-id-1 div.sk-item::before, #sk-container-id-1 div.sk-parallel-item::before {content: \"\";position: absolute;border-left: 1px solid gray;box-sizing: border-box;top: 0;bottom: 0;left: 50%;z-index: -1;}#sk-container-id-1 div.sk-parallel-item {display: flex;flex-direction: column;z-index: 1;position: relative;background-color: white;}#sk-container-id-1 div.sk-parallel-item:first-child::after {align-self: flex-end;width: 50%;}#sk-container-id-1 div.sk-parallel-item:last-child::after {align-self: flex-start;width: 50%;}#sk-container-id-1 div.sk-parallel-item:only-child::after {width: 0;}#sk-container-id-1 div.sk-dashed-wrapped {border: 1px dashed gray;margin: 0 0.4em 0.5em 0.4em;box-sizing: border-box;padding-bottom: 0.4em;background-color: white;}#sk-container-id-1 div.sk-label label {font-family: monospace;font-weight: bold;display: inline-block;line-height: 1.2em;}#sk-container-id-1 div.sk-label-container {text-align: center;}#sk-container-id-1 div.sk-container {/* jupyter's `normalize.less` sets `[hidden] { display: none; }` but bootstrap.min.css set `[hidden] { display: none !important; }` so we also need the `!important` here to be able to override the default hidden behavior on the sphinx rendered scikit-learn.org. See: https://github.com/scikit-learn/scikit-learn/issues/21755 */display: inline-block !important;position: relative;}#sk-container-id-1 div.sk-text-repr-fallback {display: none;}</style><div id=\"sk-container-id-1\" class=\"sk-top-container\"><div class=\"sk-text-repr-fallback\"><pre>RandomizedSearchCV(cv=5,\n",
              "                   estimator=XGBRegressor(base_score=None, booster=None,\n",
              "                                          callbacks=None,\n",
              "                                          colsample_bylevel=None,\n",
              "                                          colsample_bynode=None,\n",
              "                                          colsample_bytree=None,\n",
              "                                          early_stopping_rounds=None,\n",
              "                                          enable_categorical=False,\n",
              "                                          eval_metric=None, feature_types=None,\n",
              "                                          gamma=None, gpu_id=None,\n",
              "                                          grow_policy=None,\n",
              "                                          importance_type=None,\n",
              "                                          interaction_constraints=None,\n",
              "                                          learning_rate=...\n",
              "                                        &#x27;learning_rate&#x27;: &lt;scipy.stats._distn_infrastructure.rv_continuous_frozen object at 0x7ff7e8a7cd30&gt;,\n",
              "                                        &#x27;max_depth&#x27;: &lt;scipy.stats._distn_infrastructure.rv_discrete_frozen object at 0x7ff7e8a20580&gt;,\n",
              "                                        &#x27;min_child_weight&#x27;: &lt;scipy.stats._distn_infrastructure.rv_discrete_frozen object at 0x7ff7eb4fbe20&gt;,\n",
              "                                        &#x27;n_estimators&#x27;: &lt;scipy.stats._distn_infrastructure.rv_discrete_frozen object at 0x7ff7e8a20220&gt;},\n",
              "                   random_state=10, verbose=2)</pre><b>In a Jupyter environment, please rerun this cell to show the HTML representation or trust the notebook. <br />On GitHub, the HTML representation is unable to render, please try loading this page with nbviewer.org.</b></div><div class=\"sk-container\" hidden><div class=\"sk-item sk-dashed-wrapped\"><div class=\"sk-label-container\"><div class=\"sk-label sk-toggleable\"><input class=\"sk-toggleable__control sk-hidden--visually\" id=\"sk-estimator-id-1\" type=\"checkbox\" ><label for=\"sk-estimator-id-1\" class=\"sk-toggleable__label sk-toggleable__label-arrow\">RandomizedSearchCV</label><div class=\"sk-toggleable__content\"><pre>RandomizedSearchCV(cv=5,\n",
              "                   estimator=XGBRegressor(base_score=None, booster=None,\n",
              "                                          callbacks=None,\n",
              "                                          colsample_bylevel=None,\n",
              "                                          colsample_bynode=None,\n",
              "                                          colsample_bytree=None,\n",
              "                                          early_stopping_rounds=None,\n",
              "                                          enable_categorical=False,\n",
              "                                          eval_metric=None, feature_types=None,\n",
              "                                          gamma=None, gpu_id=None,\n",
              "                                          grow_policy=None,\n",
              "                                          importance_type=None,\n",
              "                                          interaction_constraints=None,\n",
              "                                          learning_rate=...\n",
              "                                        &#x27;learning_rate&#x27;: &lt;scipy.stats._distn_infrastructure.rv_continuous_frozen object at 0x7ff7e8a7cd30&gt;,\n",
              "                                        &#x27;max_depth&#x27;: &lt;scipy.stats._distn_infrastructure.rv_discrete_frozen object at 0x7ff7e8a20580&gt;,\n",
              "                                        &#x27;min_child_weight&#x27;: &lt;scipy.stats._distn_infrastructure.rv_discrete_frozen object at 0x7ff7eb4fbe20&gt;,\n",
              "                                        &#x27;n_estimators&#x27;: &lt;scipy.stats._distn_infrastructure.rv_discrete_frozen object at 0x7ff7e8a20220&gt;},\n",
              "                   random_state=10, verbose=2)</pre></div></div></div><div class=\"sk-parallel\"><div class=\"sk-parallel-item\"><div class=\"sk-item\"><div class=\"sk-label-container\"><div class=\"sk-label sk-toggleable\"><input class=\"sk-toggleable__control sk-hidden--visually\" id=\"sk-estimator-id-2\" type=\"checkbox\" ><label for=\"sk-estimator-id-2\" class=\"sk-toggleable__label sk-toggleable__label-arrow\">estimator: XGBRegressor</label><div class=\"sk-toggleable__content\"><pre>XGBRegressor(base_score=None, booster=None, callbacks=None,\n",
              "             colsample_bylevel=None, colsample_bynode=None,\n",
              "             colsample_bytree=None, early_stopping_rounds=None,\n",
              "             enable_categorical=False, eval_metric=None, feature_types=None,\n",
              "             gamma=None, gpu_id=None, grow_policy=None, importance_type=None,\n",
              "             interaction_constraints=None, learning_rate=None, max_bin=None,\n",
              "             max_cat_threshold=None, max_cat_to_onehot=None,\n",
              "             max_delta_step=None, max_depth=None, max_leaves=None,\n",
              "             min_child_weight=None, missing=nan, monotone_constraints=None,\n",
              "             n_estimators=100, n_jobs=None, num_parallel_tree=None,\n",
              "             predictor=None, random_state=None, ...)</pre></div></div></div><div class=\"sk-serial\"><div class=\"sk-item\"><div class=\"sk-estimator sk-toggleable\"><input class=\"sk-toggleable__control sk-hidden--visually\" id=\"sk-estimator-id-3\" type=\"checkbox\" ><label for=\"sk-estimator-id-3\" class=\"sk-toggleable__label sk-toggleable__label-arrow\">XGBRegressor</label><div class=\"sk-toggleable__content\"><pre>XGBRegressor(base_score=None, booster=None, callbacks=None,\n",
              "             colsample_bylevel=None, colsample_bynode=None,\n",
              "             colsample_bytree=None, early_stopping_rounds=None,\n",
              "             enable_categorical=False, eval_metric=None, feature_types=None,\n",
              "             gamma=None, gpu_id=None, grow_policy=None, importance_type=None,\n",
              "             interaction_constraints=None, learning_rate=None, max_bin=None,\n",
              "             max_cat_threshold=None, max_cat_to_onehot=None,\n",
              "             max_delta_step=None, max_depth=None, max_leaves=None,\n",
              "             min_child_weight=None, missing=nan, monotone_constraints=None,\n",
              "             n_estimators=100, n_jobs=None, num_parallel_tree=None,\n",
              "             predictor=None, random_state=None, ...)</pre></div></div></div></div></div></div></div></div></div></div>"
            ]
          },
          "metadata": {},
          "execution_count": 57
        }
      ]
    },
    {
      "cell_type": "code",
      "source": [
        "y_pred = model.predict(x_train)\n",
        "print(mean_squared_error(y_pred, y_train, squared=False))\n",
        "y_pred_test = model.predict(x_test)\n",
        "print(mean_squared_error(y_pred_test, y_test, squared=False))"
      ],
      "metadata": {
        "colab": {
          "base_uri": "https://localhost:8080/"
        },
        "id": "yp3dRhpP3QIy",
        "outputId": "375f3fd2-abc2-4870-fb2a-fab201befb58"
      },
      "execution_count": 58,
      "outputs": [
        {
          "output_type": "stream",
          "name": "stdout",
          "text": [
            "0.28494140001946133\n",
            "0.24304622946158197\n"
          ]
        }
      ]
    },
    {
      "cell_type": "markdown",
      "source": [
        "we can see the RMSE of training data is 0.285, RMSE of test data is 0.243. This model reduces loss value comparing to the baseline model."
      ],
      "metadata": {
        "id": "rCN7p26w3pjn"
      }
    },
    {
      "cell_type": "markdown",
      "source": [
        "Next we switch to a RandomForest model and see if we can improve the accuracy."
      ],
      "metadata": {
        "id": "mJ0ueKjE4IlS"
      }
    },
    {
      "cell_type": "code",
      "source": [
        "estimator = RandomForestRegressor()\n",
        "param = {'n_estimators': [200, 400, 600, 800, 1000, 1200, 1400, 1600, 1800, 2000],\n",
        "          'max_features': ['auto', 'sqrt'],\n",
        "          'max_depth': [10, 20, 30, 40, 50, 60, 70, 80, 90, 100, 110, None],\n",
        "          'min_samples_split': [2, 5, 10],\n",
        "          'min_samples_leaf': [1, 2, 4],\n",
        "          'bootstrap': [True, False]}\n",
        "\n",
        "model = RandomizedSearchCV(estimator = estimator, param_distributions = param, cv=3, n_iter = 100, verbose=2, random_state=rs, n_jobs = -1)\n",
        "model.fit(x_train, y_train)\n",
        "\n",
        "y_pred = model.predict(x_train)\n",
        "print(mean_squared_error(y_pred, y_train, squared=False))\n",
        "y_pred_test = model.predict(x_test)\n",
        "print(mean_squared_error(y_pred_test, y_test, squared=False))"
      ],
      "metadata": {
        "colab": {
          "base_uri": "https://localhost:8080/"
        },
        "id": "G4lqWd4Z4UJE",
        "outputId": "3838da7b-a60c-441e-b7e6-0e0f14360dee"
      },
      "execution_count": 69,
      "outputs": [
        {
          "output_type": "stream",
          "name": "stdout",
          "text": [
            "Fitting 3 folds for each of 100 candidates, totalling 300 fits\n",
            "0.2552298775149589\n",
            "0.23153027571788934\n"
          ]
        }
      ]
    },
    {
      "cell_type": "markdown",
      "source": [
        "RMSE of training data is 0.255, RMSE of test data is 0.232, which are lower than xgboost model's loss value."
      ],
      "metadata": {
        "id": "0CAH7mi64m55"
      }
    },
    {
      "cell_type": "code",
      "source": [
        "y_pred_test_round = [round(i) for i in y_pred_test]\n",
        "y_test_round = y_test.round(0)\n",
        "print(accuracy_score(y_test_round, y_pred_test_round))"
      ],
      "metadata": {
        "colab": {
          "base_uri": "https://localhost:8080/"
        },
        "id": "le0Z3XxrYTS1",
        "outputId": "f2262194-e523-40b2-d0ca-1881412b1d2d"
      },
      "execution_count": 70,
      "outputs": [
        {
          "output_type": "stream",
          "name": "stdout",
          "text": [
            "0.7786259541984732\n"
          ]
        }
      ]
    },
    {
      "cell_type": "markdown",
      "source": [
        "Comparing to baseline, the model doesn't improve the prediction accuracy though.<br> \n",
        "But the purpose of this exercise, is to predict user rating on SpotHero app given a facility's features. We will try to improve the model's accuracy in later steps."
      ],
      "metadata": {
        "id": "SVsKxk-QY--x"
      }
    },
    {
      "cell_type": "markdown",
      "source": [
        "Let's also evaluate the last model with SHAP value, which explains how each feature affects the model."
      ],
      "metadata": {
        "id": "R5OG2Zfp5N3c"
      }
    },
    {
      "cell_type": "code",
      "source": [
        "explainer = shap.Explainer(model.best_estimator_)\n",
        "shap_values = explainer(df[features])\n",
        "shap.plots.beeswarm(shap_values, max_display=len(features))"
      ],
      "metadata": {
        "colab": {
          "base_uri": "https://localhost:8080/",
          "height": 803
        },
        "id": "t66wzzzq5eEP",
        "outputId": "4548f7f6-69f7-401c-fde4-576e3c909652"
      },
      "execution_count": 73,
      "outputs": [
        {
          "output_type": "display_data",
          "data": {
            "text/plain": [
              "<Figure size 576x972 with 2 Axes>"
            ],
            "image/png": "[encoded data removed]"
          },
          "metadata": {
            "needs_background": "light"
          }
        }
      ]
    },
    {
      "cell_type": "markdown",
      "source": [
        "we can see the top 10 features that have the most contribution to the prediction are: <br>\n",
        "- p4w_return_pct<br> \n",
        "- utilization_weekday_day<br> \n",
        "- refund_pct<br> \n",
        "- p4w_sipp<br>\n",
        "- utilization<br>\n",
        "- utilization_weekday_night<br>\n",
        "- num_stalls<br>\n",
        "- reporting_neighborhood<br>\n",
        "- facility_type_lot<br>\n",
        "- sipp<br>\n",
        "\n",
        "Among them supply issues is a factor that can be improved by facility operators. also operators could find ways to reduce # of times a rental is returned/refunded.<br> \n",
        "In summary product team can recommend operators to work on these factors to effectively improve facility's rating on app."
      ],
      "metadata": {
        "id": "_WHjffNn57gS"
      }
    },
    {
      "cell_type": "markdown",
      "source": [
        "Next steps: <br>\n",
        "1. It's not fair to compare rating score with 1000 reviews with rating score with only 1 review. Usually the more reviews a rating has, the more trustworthy it is. To make the model more accurate, we can give different weights to a facility's rating based on number of reviews recieved on the app.<br>\n",
        "2. a facility close to events may have different traits than normal ones, e.g, peak hours, rental fees, etc. We can build different models for event/non-event facilities, with different features, to measure their own quality.<br>\n",
        "3. use other features and fine tune the model. E.g, we can include latitude and longitude as features and convert them to buckets.<br>\n",
        "4. As mentioned previously, it's not fair to compare profitability of facilities in different neighborhood. so we can create models for each neighborhood, and use profit as label. This way we can predict a new facility's profit based on its location and operating conditions.<br>\n",
        "5. utilization rate could also indicate a facility's quality. The higher utilization rate, the more it's welcomed by customers. so we can try model with utilization as label."
      ],
      "metadata": {
        "id": "_jggiJILjYgx"
      }
    },
    {
      "cell_type": "code",
      "source": [],
      "metadata": {
        "id": "pCP4sRa3sr4d"
      },
      "execution_count": null,
      "outputs": []
    }
  ]
}